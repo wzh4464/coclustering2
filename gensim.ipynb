{
 "cells": [
  {
   "cell_type": "code",
   "execution_count": 9,
   "metadata": {},
   "outputs": [],
   "source": [
    "from gensim.models import Word2Vec\n",
    "from readjson import process_json_file\n",
    "import numpy as np"
   ]
  },
  {
   "cell_type": "code",
   "execution_count": 2,
   "metadata": {},
   "outputs": [],
   "source": [
    "sentences = process_json_file(\"raw/ultrachat_release_230407.json\")"
   ]
  },
  {
   "cell_type": "code",
   "execution_count": 3,
   "metadata": {},
   "outputs": [],
   "source": [
    "word2vec = Word2Vec(sentences, window=5, min_count=1, workers=4)\n",
    "# get embedding matrix\n",
    "embedding_matrix = word2vec.wv.vectors"
   ]
  },
  {
   "cell_type": "code",
   "execution_count": 5,
   "metadata": {},
   "outputs": [
    {
     "data": {
      "text/plain": [
       "27153881"
      ]
     },
     "execution_count": 5,
     "metadata": {},
     "output_type": "execute_result"
    }
   ],
   "source": [
    "len(sentences)"
   ]
  },
  {
   "cell_type": "code",
   "execution_count": 1,
   "metadata": {},
   "outputs": [
    {
     "ename": "NameError",
     "evalue": "name 'np' is not defined",
     "output_type": "error",
     "traceback": [
      "\u001b[0;31m---------------------------------------------------------------------------\u001b[0m",
      "\u001b[0;31mNameError\u001b[0m                                 Traceback (most recent call last)",
      "\u001b[1;32m/home/wu/codes/coclustering2/gensim.ipynb 单元格 5\u001b[0m in \u001b[0;36m<cell line: 6>\u001b[0;34m()\u001b[0m\n\u001b[1;32m      <a href='vscode-notebook-cell:/home/wu/codes/coclustering2/gensim.ipynb#W5sZmlsZQ%3D%3D?line=3'>4</a>\u001b[0m     \u001b[39mreturn\u001b[39;00m np\u001b[39m.\u001b[39mmean(word_vectors, axis\u001b[39m=\u001b[39m\u001b[39m0\u001b[39m)\n\u001b[1;32m      <a href='vscode-notebook-cell:/home/wu/codes/coclustering2/gensim.ipynb#W5sZmlsZQ%3D%3D?line=4'>5</a>\u001b[0m \u001b[39m# 创建一个矩阵，每一行是一个句子的嵌入向量\u001b[39;00m\n\u001b[0;32m----> <a href='vscode-notebook-cell:/home/wu/codes/coclustering2/gensim.ipynb#W5sZmlsZQ%3D%3D?line=5'>6</a>\u001b[0m sentence_vectors \u001b[39m=\u001b[39m np\u001b[39m.\u001b[39mvstack([sentence_vector(sentence, word2vec) \u001b[39mfor\u001b[39;00m sentence \u001b[39min\u001b[39;00m sentences])\n",
      "\u001b[0;31mNameError\u001b[0m: name 'np' is not defined"
     ]
    }
   ],
   "source": [
    "def sentence_vector(sentence, model):\n",
    "    \"\"\"给定一个句子和一个词嵌入模型，返回该句子的嵌入向量。\"\"\"\n",
    "    word_vectors = [model.wv[word] for word in sentence if word in model.wv]\n",
    "    return np.mean(word_vectors, axis=0)\n",
    "# 创建一个矩阵，每一行是一个句子的嵌入向量\n",
    "sentence_vectors = np.vstack([sentence_vector(sentence, word2vec) for sentence in sentences])\n"
   ]
  }
 ],
 "metadata": {
  "kernelspec": {
   "display_name": "base",
   "language": "python",
   "name": "python3"
  },
  "language_info": {
   "codemirror_mode": {
    "name": "ipython",
    "version": 3
   },
   "file_extension": ".py",
   "mimetype": "text/x-python",
   "name": "python",
   "nbconvert_exporter": "python",
   "pygments_lexer": "ipython3",
   "version": "3.9.12"
  },
  "orig_nbformat": 4
 },
 "nbformat": 4,
 "nbformat_minor": 2
}
