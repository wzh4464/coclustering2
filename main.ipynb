{
 "cells": [
  {
   "cell_type": "code",
   "execution_count": 1,
   "metadata": {},
   "outputs": [],
   "source": [
    "from readjson import process_json_file\n",
    "sentences = process_json_file(\"raw/ultrachat_release_230407.json\")"
   ]
  },
  {
   "cell_type": "code",
   "execution_count": 1,
   "metadata": {},
   "outputs": [],
   "source": [
    "# read sentences from txt file\n",
    "sentences = []\n",
    "with open(\"processed/output.txt\", \"r\") as f:\n",
    "    for line in f:\n",
    "        sentences.append(line.strip())"
   ]
  },
  {
   "cell_type": "code",
   "execution_count": 4,
   "metadata": {},
   "outputs": [
    {
     "data": {
      "text/plain": [
       "27651263"
      ]
     },
     "execution_count": 4,
     "metadata": {},
     "output_type": "execute_result"
    }
   ],
   "source": [
    "len(sentences)"
   ]
  },
  {
   "cell_type": "code",
   "execution_count": 5,
   "metadata": {},
   "outputs": [],
   "source": [
    "from sklearn.feature_extraction.text import CountVectorizer\n",
    "vectorizer = CountVectorizer(ngram_range=(1, 2))\n",
    "\n",
    "vectorized_sentences = vectorizer.fit_transform(sentences)\n",
    "# transform and then release the memory\n",
    "# vectorized_sentences = []\n",
    "# for i in range(0, len(sentences), 1000):\n",
    "#     # handle the last part\n",
    "#     if i + 1000 > len(sentences):\n",
    "#         vectorized_sentence = vectorizer.transform(sentences[i:])\n",
    "#         sentences = []\n",
    "#     else:\n",
    "#         vectorized_sentence = vectorizer.transform(sentences[0:1000])\n",
    "#         sentences = sentences[1000:]\n",
    "#     vectorized_sentences.append(vectorized_sentence)\n"
   ]
  },
  {
   "cell_type": "code",
   "execution_count": 8,
   "metadata": {},
   "outputs": [],
   "source": [
    "# vectorized_sentences is a sparse matrix\n",
    "# save to a file in sparse form\n",
    "\n",
    "from scipy.sparse import save_npz\n",
    "save_npz(\"processed/vectorized_sentences.npz\", vectorized_sentences)"
   ]
  },
  {
   "cell_type": "code",
   "execution_count": 7,
   "metadata": {},
   "outputs": [
    {
     "ename": "",
     "evalue": "",
     "output_type": "error",
     "traceback": [
      "\u001b[1;31m无法执行代码，已释放会话。请尝试重新启动内核。"
     ]
    },
    {
     "ename": "",
     "evalue": "",
     "output_type": "error",
     "traceback": [
      "\u001b[1;31m在当前单元格或上一个单元格中执行代码时 Kernel 崩溃。请查看单元格中的代码，以确定故障的可能原因。有关详细信息，请单击 <a href='https://aka.ms/vscodeJupyterKernelCrash'>此处</a>。有关更多详细信息，请查看 Jupyter <a href='command:jupyter.viewOutput'>log</a>。"
     ]
    }
   ],
   "source": [
    "import torch\n",
    "import torch.nn as nn\n",
    "import torch.optim as optim\n",
    "from torch.utils.data import Dataset, DataLoader\n",
    "from collections import Counter\n",
    "import numpy as np\n",
    "\n",
    "class SkipGramDataset(Dataset):\n",
    "    def __init__(self, sentences, window_size=2):\n",
    "        self.window_size = window_size\n",
    "        self.word_counts = Counter([word for sentence in sentences for word in sentence])\n",
    "        self.vocab = list(self.word_counts.keys())\n",
    "        self.word_to_index = {word: i for i, word in enumerate(self.vocab)}\n",
    "        self.index_to_word = {i: word for word, i in self.word_to_index.items()}\n",
    "        self.data = self.generate_data(sentences, window_size)\n",
    "\n",
    "    def generate_data(self, sentences, window_size):\n",
    "        data = []\n",
    "        for sentence in sentences:\n",
    "            indices = [self.word_to_index[word] for word in sentence]\n",
    "            for i in range(len(indices)):\n",
    "                for j in range(max(0, i - window_size), min(i + window_size + 1, len(indices))):\n",
    "                    if i != j:\n",
    "                        data.append((indices[i], indices[j]))\n",
    "        return data\n",
    "\n",
    "    def __len__(self):\n",
    "        return len(self.data)\n",
    "\n",
    "    def __getitem__(self, index):\n",
    "        return self.data[index]\n",
    "\n",
    "\n",
    "class SkipGramModel(nn.Module):\n",
    "    def __init__(self, vocab_size, embedding_dim):\n",
    "        super().__init__()\n",
    "        self.embeddings = nn.Embedding(vocab_size, embedding_dim)\n",
    "        self.linear = nn.Linear(embedding_dim, vocab_size)\n",
    "\n",
    "    def forward(self, x):\n",
    "        x = self.embeddings(x)\n",
    "        x = self.linear(x)\n",
    "        return x\n",
    "\n",
    "\n",
    "def train(model, data_loader, epochs, device):\n",
    "    model = model.to(device)\n",
    "    criterion = nn.CrossEntropyLoss()\n",
    "    optimizer = optim.SGD(model.parameters(), lr=0.1)\n",
    "\n",
    "    for epoch in range(epochs):\n",
    "        total_loss = 0.0\n",
    "        for inputs, targets in data_loader:\n",
    "            inputs = inputs.to(device)\n",
    "            targets = targets.to(device)\n",
    "\n",
    "            optimizer.zero_grad()\n",
    "            outputs = model(inputs)\n",
    "            loss = criterion(outputs, targets)\n",
    "            loss.backward()\n",
    "            optimizer.step()\n",
    "\n",
    "            total_loss += loss.item()\n",
    "        print(f\"Epoch {epoch + 1}/{epochs}, Loss: {total_loss / len(data_loader)}\")\n",
    "\n",
    "dataset = SkipGramDataset(sentences)\n",
    "data_loader = DataLoader(dataset, batch_size=32, shuffle=True)\n",
    "\n",
    "model = SkipGramModel(len(dataset.vocab), embedding_dim=50)\n",
    "device = torch.device('cuda' if torch.cuda.is_available() else 'cpu')\n",
    "\n",
    "train(model, data_loader, epochs=50, device=device)\n",
    "\n"
   ]
  }
 ],
 "metadata": {
  "kernelspec": {
   "display_name": "base",
   "language": "python",
   "name": "python3"
  },
  "language_info": {
   "codemirror_mode": {
    "name": "ipython",
    "version": 3
   },
   "file_extension": ".py",
   "mimetype": "text/x-python",
   "name": "python",
   "nbconvert_exporter": "python",
   "pygments_lexer": "ipython3",
   "version": "3.9.12"
  },
  "orig_nbformat": 4
 },
 "nbformat": 4,
 "nbformat_minor": 2
}
