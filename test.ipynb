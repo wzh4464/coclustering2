{
 "cells": [
  {
   "cell_type": "code",
   "execution_count": 10,
   "metadata": {},
   "outputs": [
    {
     "name": "stdout",
     "output_type": "stream",
     "text": [
      "[1 0 1 1 1 1 2 0 0 2 0 1 2 0 1 2 1 0 0 0 0 0 1 0 1 2 2 0 2 2 1 0 0 1 1 1 1\n",
      " 1 0 0 2 1 0 1 0 1 2 1 1 1 0 2 0 2 2 1 0 2 2 1 1 1 1 2 2 2 0 2 1 2 0 2 0 2\n",
      " 1 2 2 2 2 2 1 2 2 0 1 1 2 2 1 0 1 0 2 1 1 1 1 2 0 2]\n"
     ]
    },
    {
     "ename": "IndexError",
     "evalue": "list index out of range",
     "output_type": "error",
     "traceback": [
      "\u001b[0;31m---------------------------------------------------------------------------\u001b[0m",
      "\u001b[0;31mIndexError\u001b[0m                                Traceback (most recent call last)",
      "Cell \u001b[0;32mIn[10], line 67\u001b[0m\n\u001b[1;32m     65\u001b[0m \u001b[39m# 查找索引\u001b[39;00m\n\u001b[1;32m     66\u001b[0m Ngroup \u001b[39m=\u001b[39m \u001b[39m3\u001b[39m\n\u001b[0;32m---> 67\u001b[0m Nout, Iout, Jout \u001b[39m=\u001b[39m findindex(I, Ngroup)\n\u001b[1;32m     69\u001b[0m \u001b[39m# 打印结果\u001b[39;00m\n\u001b[1;32m     70\u001b[0m \u001b[39mprint\u001b[39m(\u001b[39m\"\u001b[39m\u001b[39mNout:\u001b[39m\u001b[39m\"\u001b[39m, Nout)\n",
      "Cell \u001b[0;32mIn[10], line 46\u001b[0m, in \u001b[0;36mfindindex\u001b[0;34m(I, Ngroup)\u001b[0m\n\u001b[1;32m     44\u001b[0m         Jc\u001b[39m.\u001b[39mappend(j)\n\u001b[1;32m     45\u001b[0m \u001b[39mfor\u001b[39;00m i \u001b[39min\u001b[39;00m \u001b[39mrange\u001b[39m(N):\n\u001b[0;32m---> 46\u001b[0m     Nout\u001b[39m.\u001b[39mappend(Nc[Ic[i]])\n\u001b[1;32m     47\u001b[0m     Iout\u001b[39m.\u001b[39mappend(I[i] \u001b[39m+\u001b[39m (Ic[i]\u001b[39m-\u001b[39m\u001b[39m1\u001b[39m)\u001b[39m*\u001b[39mNgroup)\n\u001b[1;32m     48\u001b[0m     Jout\u001b[39m.\u001b[39mappend(Jc[i] \u001b[39m+\u001b[39m (Ic[i]\u001b[39m-\u001b[39m\u001b[39m1\u001b[39m)\u001b[39m*\u001b[39mNgroup)\n",
      "\u001b[0;31mIndexError\u001b[0m: list index out of range"
     ]
    }
   ],
   "source": [
    "import numpy as np\n",
    "\n",
    "def mycluster1(Data, NumKind):\n",
    "    DataRow, DataColumn = Data.shape\n",
    "    Center = np.random.rand(DataRow, NumKind)\n",
    "    COV = np.zeros((DataRow, DataRow, NumKind))\n",
    "    for i in range(NumKind):\n",
    "        COV[:, :, i] = np.eye(DataRow)\n",
    "    for k in range(10):\n",
    "        D = np.zeros((NumKind, DataColumn))\n",
    "        for i in range(NumKind):\n",
    "            for j in range(DataColumn):\n",
    "                D[i, j] = np.linalg.norm(Data[:, j] - Center[:, i])\n",
    "        _, Y = np.min(D, axis=0), np.argmin(D, axis=0)\n",
    "        for i in range(NumKind):\n",
    "            Center[:, i] = np.mean(Data[:, Y == i], axis=1)\n",
    "            COV[:, :, i] = np.cov(Data[:, Y == i])\n",
    "        B = np.zeros((NumKind, DataColumn))\n",
    "        for i in range(NumKind):\n",
    "            for j in range(DataColumn):\n",
    "                B[i, j] = 1 / (2 * np.pi * np.sqrt(np.linalg.det(COV[:, :, i]))) * \\\n",
    "                          np.exp(-0.5 * (Data[:, j] - Center[:, i]).T @ np.linalg.inv(COV[:, :, i]) @ \\\n",
    "                                 (Data[:, j] - Center[:, i]))\n",
    "        Ynew = np.argmax(B, axis=0)\n",
    "    return Ynew\n",
    "\n",
    "def findindex(I, Ngroup):\n",
    "    Nout = []\n",
    "    Iout = []\n",
    "    Jout = []\n",
    "    N = len(I)\n",
    "    Nc = np.zeros(N, dtype=int)\n",
    "    Ic = []\n",
    "    Jc = []\n",
    "    a = np.arange(2, Ngroup+1)\n",
    "    aa = a**2\n",
    "    Nc[:aa[0]] = a[0]\n",
    "    for i in range(1, len(a)):\n",
    "        Ntemp = np.sum(aa[:i])\n",
    "        Nc[Ntemp:Ntemp+aa[i]] = a[i]\n",
    "    for i in range(1, len(a)+1):\n",
    "        for j in range(1, i+1):\n",
    "            Ic.append(i)\n",
    "            Jc.append(j)\n",
    "    for i in range(N):\n",
    "        Nout.append(Nc[Ic[i]])\n",
    "        Iout.append(I[i] + (Ic[i]-1)*Ngroup)\n",
    "        Jout.append(Jc[i] + (Ic[i]-1)*Ngroup)\n",
    "    return np.array(Nout), np.array(Iout), np.array(Jout)\n",
    "\n",
    "# 生成一些随机数据\n",
    "np.random.seed(0)\n",
    "Data = np.random.rand(3, 100)\n",
    "\n",
    "# 聚类\n",
    "Y = mycluster1(Data, 3)\n",
    "\n",
    "# 打印结果\n",
    "print(Y)\n",
    "\n",
    "# 生成一些随机数据\n",
    "np.random.seed(0)\n",
    "I = np.random.randint(0, 10, size=20)\n",
    "\n",
    "# 查找索引\n",
    "Ngroup = 3\n",
    "Nout, Iout, Jout = findindex(I, Ngroup)\n",
    "\n",
    "# 打印结果\n",
    "print(\"Nout:\", Nout)\n",
    "print(\"Iout:\", Iout)\n",
    "print(\"Jout:\", Jout)"
   ]
  },
  {
   "cell_type": "code",
   "execution_count": 12,
   "metadata": {},
   "outputs": [
    {
     "name": "stdout",
     "output_type": "stream",
     "text": [
      "1\n",
      "2\n",
      "3\n",
      "4\n",
      "5\n",
      "6\n",
      "7\n",
      "8\n",
      "9\n",
      "10\n"
     ]
    }
   ],
   "source": [
    "for i in range(1,11):\n",
    "    print(i)"
   ]
  }
 ],
 "metadata": {
  "kernelspec": {
   "display_name": "cocluster",
   "language": "python",
   "name": "python3"
  },
  "language_info": {
   "codemirror_mode": {
    "name": "ipython",
    "version": 3
   },
   "file_extension": ".py",
   "mimetype": "text/x-python",
   "name": "python",
   "nbconvert_exporter": "python",
   "pygments_lexer": "ipython3",
   "version": "3.11.0"
  },
  "orig_nbformat": 4
 },
 "nbformat": 4,
 "nbformat_minor": 2
}
