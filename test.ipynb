{
 "cells": [
  {
   "cell_type": "code",
   "execution_count": 2,
   "metadata": {},
   "outputs": [
    {
     "name": "stdout",
     "output_type": "stream",
     "text": [
      "['This is an', 'is an example', 'an example sentence', 'example sentence for', 'sentence for n-gram', 'for n-gram generation.']\n",
      "[[1 0 0 0 0 1 0 1]\n",
      " [1 1 0 0 0 1 0 0]\n",
      " [1 1 0 0 0 0 1 0]\n",
      " [0 1 1 0 0 0 1 0]\n",
      " [0 0 1 0 1 0 1 0]\n",
      " [0 0 1 1 1 0 0 0]]\n",
      "[[0.47196441 0.         0.         0.         0.         0.55902156\n",
      "  0.         0.68172171]\n",
      " [0.54209195 0.54209195 0.         0.         0.         0.64208461\n",
      "  0.         0.        ]\n",
      " [0.57735027 0.57735027 0.         0.         0.         0.\n",
      "  0.57735027 0.        ]\n",
      " [0.         0.57735027 0.57735027 0.         0.         0.\n",
      "  0.57735027 0.        ]\n",
      " [0.         0.         0.54209195 0.         0.64208461 0.\n",
      "  0.54209195 0.        ]\n",
      " [0.         0.         0.47196441 0.68172171 0.55902156 0.\n",
      "  0.         0.        ]]\n"
     ]
    }
   ],
   "source": [
    "from sklearn.feature_extraction.text import CountVectorizer, TfidfVectorizer\n",
    "\n",
    "# 示例用法\n",
    "ngram_sequences = [['This', 'is', 'an'], ['is', 'an', 'example'], ['an', 'example', 'sentence'], ['example', 'sentence', 'for'], ['sentence', 'for', 'n-gram'], ['for', 'n-gram', 'generation.']]\n",
    "\n",
    "# 使用词袋模型表示\n",
    "count_vectorizer = CountVectorizer()\n",
    "count_vectors = count_vectorizer.fit_transform([' '.join(seq) for seq in ngram_sequences])\n",
    "print(count_vectors.toarray())\n",
    "\n",
    "# 使用TF-IDF表示\n",
    "tfidf_vectorizer = TfidfVectorizer()\n",
    "tfidf_vectors = tfidf_vectorizer.fit_transform([' '.join(seq) for seq in ngram_sequences])\n",
    "print(tfidf_vectors.toarray())"
   ]
  },
  {
   "cell_type": "code",
   "execution_count": 2,
   "metadata": {},
   "outputs": [
    {
     "name": "stdout",
     "output_type": "stream",
     "text": [
      "[2 3 4 5 6 7]\n"
     ]
    }
   ],
   "source": [
    "# print([2:8])\n",
    "# print from 2 to 8\n",
    "import numpy as np\n",
    "print(np.arange(10)[2:8])\n"
   ]
  }
 ],
 "metadata": {
  "kernelspec": {
   "display_name": "cocluster",
   "language": "python",
   "name": "python3"
  },
  "language_info": {
   "codemirror_mode": {
    "name": "ipython",
    "version": 3
   },
   "file_extension": ".py",
   "mimetype": "text/x-python",
   "name": "python",
   "nbconvert_exporter": "python",
   "pygments_lexer": "ipython3",
   "version": "3.11.0"
  },
  "orig_nbformat": 4
 },
 "nbformat": 4,
 "nbformat_minor": 2
}
